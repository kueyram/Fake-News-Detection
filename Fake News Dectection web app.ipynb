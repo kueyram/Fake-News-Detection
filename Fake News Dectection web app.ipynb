{
 "cells": [
  {
   "cell_type": "code",
   "execution_count": null,
   "id": "13c89763",
   "metadata": {},
   "outputs": [],
   "source": [
    "# Streamlit interface\n",
    "st.title(\"Fake News Detection App\")\n",
    "st.write(\"Enter the news article text below to determine if it is real or fake.\")\n",
    "\n",
    "# Input field\n",
    "news_input = st.text_area(\"Enter News Text\", placeholder=\"Type the news text here...\")\n",
    "\n",
    "if st.button(\"Analyze\"):\n",
    "    if news_input.strip():\n",
    "        # Make prediction\n",
    "        result = predict_fake_news(news_input)\n",
    "        st.subheader(f\"The news article is: **{result}**\")\n",
    "    else:\n",
    "        st.error(\"Please enter a text to analyze.\")"
   ]
  }
 ],
 "metadata": {
  "kernelspec": {
   "display_name": "Python 3 (ipykernel)",
   "language": "python",
   "name": "python3"
  },
  "language_info": {
   "codemirror_mode": {
    "name": "ipython",
    "version": 3
   },
   "file_extension": ".py",
   "mimetype": "text/x-python",
   "name": "python",
   "nbconvert_exporter": "python",
   "pygments_lexer": "ipython3",
   "version": "3.11.7"
  }
 },
 "nbformat": 4,
 "nbformat_minor": 5
}
