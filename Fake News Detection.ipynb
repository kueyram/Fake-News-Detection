{
 "cells": [
  {
   "cell_type": "code",
   "execution_count": null,
   "id": "dec4a4b9",
   "metadata": {},
   "outputs": [],
   "source": [
    "# Fake news detection using machine learning"
   ]
  },
  {
   "cell_type": "code",
   "execution_count": null,
   "id": "709e4fea",
   "metadata": {},
   "outputs": [],
   "source": [
    "# Loading librairies\n",
    "import pandas as pd\n",
    "import re\n",
    "from sklearn.model_selection import train_test_split\n",
    "from sklearn.feature_extraction.text import TfidfVectorizer\n",
    "from sklearn.linear_model import LogisticRegression\n",
    "from sklearn.metrics import accuracy_score, classification_report"
   ]
  },
  {
   "cell_type": "code",
   "execution_count": null,
   "id": "6caa9614",
   "metadata": {},
   "outputs": [],
   "source": [
    "# Loading the dataset\n",
    "# Link to the dataset\n",
    "datalink = ''"
   ]
  }
 ],
 "metadata": {
  "kernelspec": {
   "display_name": "Python 3 (ipykernel)",
   "language": "python",
   "name": "python3"
  },
  "language_info": {
   "codemirror_mode": {
    "name": "ipython",
    "version": 3
   },
   "file_extension": ".py",
   "mimetype": "text/x-python",
   "name": "python",
   "nbconvert_exporter": "python",
   "pygments_lexer": "ipython3",
   "version": "3.11.7"
  }
 },
 "nbformat": 4,
 "nbformat_minor": 5
}
