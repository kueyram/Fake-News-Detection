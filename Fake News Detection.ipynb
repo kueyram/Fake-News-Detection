{
 "cells": [
  {
   "cell_type": "markdown",
   "id": "31bb02df",
   "metadata": {},
   "source": [
    "#### Fake news detection using machine learning"
   ]
  },
  {
   "cell_type": "code",
   "execution_count": 1,
   "id": "1176a591",
   "metadata": {},
   "outputs": [],
   "source": [
    "# Loading librairies\n",
    "import pandas as pd\n",
    "import re\n",
    "from sklearn.model_selection import train_test_split\n",
    "from sklearn.feature_extraction.text import TfidfVectorizer\n",
    "from sklearn.linear_model import LogisticRegression\n",
    "from sklearn.metrics import accuracy_score, classification_report\n",
    "import streamlit as st"
   ]
  },
  {
   "cell_type": "code",
   "execution_count": 2,
   "id": "13d87598",
   "metadata": {},
   "outputs": [
    {
     "data": {
      "text/html": [
       "<div>\n",
       "<style scoped>\n",
       "    .dataframe tbody tr th:only-of-type {\n",
       "        vertical-align: middle;\n",
       "    }\n",
       "\n",
       "    .dataframe tbody tr th {\n",
       "        vertical-align: top;\n",
       "    }\n",
       "\n",
       "    .dataframe thead th {\n",
       "        text-align: right;\n",
       "    }\n",
       "</style>\n",
       "<table border=\"1\" class=\"dataframe\">\n",
       "  <thead>\n",
       "    <tr style=\"text-align: right;\">\n",
       "      <th></th>\n",
       "      <th>Unnamed: 0</th>\n",
       "      <th>title</th>\n",
       "      <th>text</th>\n",
       "      <th>subject</th>\n",
       "      <th>date</th>\n",
       "      <th>class</th>\n",
       "    </tr>\n",
       "  </thead>\n",
       "  <tbody>\n",
       "    <tr>\n",
       "      <th>22253</th>\n",
       "      <td>22244.0</td>\n",
       "      <td>Boiler Room #95 – Weapons of Mass Penetration</td>\n",
       "      <td>Tune in to the Alternate Current Radio Network...</td>\n",
       "      <td>US_News</td>\n",
       "      <td>3-Feb-17</td>\n",
       "      <td>0.0</td>\n",
       "    </tr>\n",
       "    <tr>\n",
       "      <th>30045</th>\n",
       "      <td>17850.0</td>\n",
       "      <td>In rightward shift, Dutch PM seals new governm...</td>\n",
       "      <td>THE HAGUE (Reuters) - Dutch Prime Minister Mar...</td>\n",
       "      <td>worldnews</td>\n",
       "      <td>10-Oct-17</td>\n",
       "      <td>1.0</td>\n",
       "    </tr>\n",
       "    <tr>\n",
       "      <th>16342</th>\n",
       "      <td>16339.0</td>\n",
       "      <td>A VOTE FOR HILLARY IS A VOTE FOR WW III: Are Y...</td>\n",
       "      <td></td>\n",
       "      <td>Government News</td>\n",
       "      <td>28-Oct-16</td>\n",
       "      <td>0.0</td>\n",
       "    </tr>\n",
       "    <tr>\n",
       "      <th>9249</th>\n",
       "      <td>9249.0</td>\n",
       "      <td>CREEPY BERNIE Calls For Trump To Step Down…Wha...</td>\n",
       "      <td>Yesterday, Senator Bernie Sanders, I-Vt., went...</td>\n",
       "      <td>politics</td>\n",
       "      <td>8-Dec-17</td>\n",
       "      <td>0.0</td>\n",
       "    </tr>\n",
       "    <tr>\n",
       "      <th>8123</th>\n",
       "      <td>8123.0</td>\n",
       "      <td>Watch: Trump Doesn’t Know What To Do During M...</td>\n",
       "      <td>You may have seen the latest Republican debate...</td>\n",
       "      <td>News</td>\n",
       "      <td>14-Feb-16</td>\n",
       "      <td>0.0</td>\n",
       "    </tr>\n",
       "  </tbody>\n",
       "</table>\n",
       "</div>"
      ],
      "text/plain": [
       "       Unnamed: 0                                              title  \\\n",
       "22253     22244.0      Boiler Room #95 – Weapons of Mass Penetration   \n",
       "30045     17850.0  In rightward shift, Dutch PM seals new governm...   \n",
       "16342     16339.0  A VOTE FOR HILLARY IS A VOTE FOR WW III: Are Y...   \n",
       "9249       9249.0  CREEPY BERNIE Calls For Trump To Step Down…Wha...   \n",
       "8123       8123.0   Watch: Trump Doesn’t Know What To Do During M...   \n",
       "\n",
       "                                                    text          subject  \\\n",
       "22253  Tune in to the Alternate Current Radio Network...          US_News   \n",
       "30045  THE HAGUE (Reuters) - Dutch Prime Minister Mar...        worldnews   \n",
       "16342                                                     Government News   \n",
       "9249   Yesterday, Senator Bernie Sanders, I-Vt., went...         politics   \n",
       "8123   You may have seen the latest Republican debate...             News   \n",
       "\n",
       "            date  class  \n",
       "22253   3-Feb-17    0.0  \n",
       "30045  10-Oct-17    1.0  \n",
       "16342  28-Oct-16    0.0  \n",
       "9249    8-Dec-17    0.0  \n",
       "8123   14-Feb-16    0.0  "
      ]
     },
     "execution_count": 2,
     "metadata": {},
     "output_type": "execute_result"
    }
   ],
   "source": [
    "# Loading the dataset\n",
    "# Link to the dataset\n",
    "datalink = 'https://raw.githubusercontent.com/kueyram/Fake-News-Detection/refs/heads/main/data/news.csv'\n",
    "\n",
    "# Importing the dataset into pandas\n",
    "news_data = pd.read_csv(datalink, sep=',')\n",
    "\n",
    "# Checking the size of the dataset\n",
    "news_data.shape\n",
    "\n",
    "# Printing random rows from the dataset\n",
    "news_data.sample(n=5)"
   ]
  },
  {
   "cell_type": "code",
   "execution_count": 3,
   "id": "d81cd91e",
   "metadata": {},
   "outputs": [
    {
     "data": {
      "text/plain": [
       "(33594, 6)"
      ]
     },
     "execution_count": 3,
     "metadata": {},
     "output_type": "execute_result"
    }
   ],
   "source": [
    "# Checking missing values\n",
    "# Dropping rows with missing values in critical columns\n",
    "# The critical columns are 'title', 'text' and 'class'\n",
    "news_data = news_data.dropna(subset=['title', 'text', 'class'])\n",
    "\n",
    "# Checking the shape after dropping the columns with missing values\n",
    "news_data.shape"
   ]
  },
  {
   "cell_type": "code",
   "execution_count": 4,
   "id": "c23ba89a",
   "metadata": {},
   "outputs": [],
   "source": [
    "# Data cleaning\n",
    "# Function to clean the data\n",
    "# We are going to remove urls, remove non-words characters and extra spcaces\n",
    "\n",
    "def clean_text(text):\n",
    "    text = re.sub(r'https?://\\S+', '', text)  # Removing urls\n",
    "    text = re.sub(r'\\W', ' ', text)  # Removing non-word characters\n",
    "    text = re.sub(r'\\s+', ' ', text)  # Removing extra spaces\n",
    "    return text.lower().strip() # Converting to lower cases\n",
    "\n",
    "# Applying the function to the title and text columns\n",
    "news_data['title'] = news_data['title'].apply(clean_text)\n",
    "news_data['text'] = news_data['text'].apply(clean_text)"
   ]
  },
  {
   "cell_type": "code",
   "execution_count": 5,
   "id": "81b2fc23",
   "metadata": {},
   "outputs": [],
   "source": [
    "# We are going to combine title and text for better feature extraction\n",
    "news_data['combined_text'] = news_data['title'] + \" \" + news_data['text']\n",
    "\n",
    "# Features and labels\n",
    "features = news_data['combined_text']\n",
    "labels = news_data['class']"
   ]
  },
  {
   "cell_type": "code",
   "execution_count": 6,
   "id": "c2ec000f",
   "metadata": {},
   "outputs": [],
   "source": [
    "# Splitting the dataset into test and training set\n",
    "features_train, features_test, labels_train, labels_test = train_test_split(features, labels, test_size=0.2, random_state=42, stratify=labels)\n",
    "\n",
    "# We are going to convert the text to numerical data using TF-IDF\n",
    "tfidf = TfidfVectorizer(max_features=5000)  # We are limitting to top 5000 features for efficiency\n",
    "\n",
    "# Fit and transform the training data\n",
    "features_train_tfidf = tfidf.fit_transform(features_train)\n",
    "\n",
    "# Transforming test data\n",
    "features_test_tfidf = tfidf.transform(features_test) "
   ]
  },
  {
   "cell_type": "code",
   "execution_count": 7,
   "id": "dd9b2dc5",
   "metadata": {},
   "outputs": [
    {
     "data": {
      "text/html": [
       "<style>#sk-container-id-1 {color: black;background-color: white;}#sk-container-id-1 pre{padding: 0;}#sk-container-id-1 div.sk-toggleable {background-color: white;}#sk-container-id-1 label.sk-toggleable__label {cursor: pointer;display: block;width: 100%;margin-bottom: 0;padding: 0.3em;box-sizing: border-box;text-align: center;}#sk-container-id-1 label.sk-toggleable__label-arrow:before {content: \"▸\";float: left;margin-right: 0.25em;color: #696969;}#sk-container-id-1 label.sk-toggleable__label-arrow:hover:before {color: black;}#sk-container-id-1 div.sk-estimator:hover label.sk-toggleable__label-arrow:before {color: black;}#sk-container-id-1 div.sk-toggleable__content {max-height: 0;max-width: 0;overflow: hidden;text-align: left;background-color: #f0f8ff;}#sk-container-id-1 div.sk-toggleable__content pre {margin: 0.2em;color: black;border-radius: 0.25em;background-color: #f0f8ff;}#sk-container-id-1 input.sk-toggleable__control:checked~div.sk-toggleable__content {max-height: 200px;max-width: 100%;overflow: auto;}#sk-container-id-1 input.sk-toggleable__control:checked~label.sk-toggleable__label-arrow:before {content: \"▾\";}#sk-container-id-1 div.sk-estimator input.sk-toggleable__control:checked~label.sk-toggleable__label {background-color: #d4ebff;}#sk-container-id-1 div.sk-label input.sk-toggleable__control:checked~label.sk-toggleable__label {background-color: #d4ebff;}#sk-container-id-1 input.sk-hidden--visually {border: 0;clip: rect(1px 1px 1px 1px);clip: rect(1px, 1px, 1px, 1px);height: 1px;margin: -1px;overflow: hidden;padding: 0;position: absolute;width: 1px;}#sk-container-id-1 div.sk-estimator {font-family: monospace;background-color: #f0f8ff;border: 1px dotted black;border-radius: 0.25em;box-sizing: border-box;margin-bottom: 0.5em;}#sk-container-id-1 div.sk-estimator:hover {background-color: #d4ebff;}#sk-container-id-1 div.sk-parallel-item::after {content: \"\";width: 100%;border-bottom: 1px solid gray;flex-grow: 1;}#sk-container-id-1 div.sk-label:hover label.sk-toggleable__label {background-color: #d4ebff;}#sk-container-id-1 div.sk-serial::before {content: \"\";position: absolute;border-left: 1px solid gray;box-sizing: border-box;top: 0;bottom: 0;left: 50%;z-index: 0;}#sk-container-id-1 div.sk-serial {display: flex;flex-direction: column;align-items: center;background-color: white;padding-right: 0.2em;padding-left: 0.2em;position: relative;}#sk-container-id-1 div.sk-item {position: relative;z-index: 1;}#sk-container-id-1 div.sk-parallel {display: flex;align-items: stretch;justify-content: center;background-color: white;position: relative;}#sk-container-id-1 div.sk-item::before, #sk-container-id-1 div.sk-parallel-item::before {content: \"\";position: absolute;border-left: 1px solid gray;box-sizing: border-box;top: 0;bottom: 0;left: 50%;z-index: -1;}#sk-container-id-1 div.sk-parallel-item {display: flex;flex-direction: column;z-index: 1;position: relative;background-color: white;}#sk-container-id-1 div.sk-parallel-item:first-child::after {align-self: flex-end;width: 50%;}#sk-container-id-1 div.sk-parallel-item:last-child::after {align-self: flex-start;width: 50%;}#sk-container-id-1 div.sk-parallel-item:only-child::after {width: 0;}#sk-container-id-1 div.sk-dashed-wrapped {border: 1px dashed gray;margin: 0 0.4em 0.5em 0.4em;box-sizing: border-box;padding-bottom: 0.4em;background-color: white;}#sk-container-id-1 div.sk-label label {font-family: monospace;font-weight: bold;display: inline-block;line-height: 1.2em;}#sk-container-id-1 div.sk-label-container {text-align: center;}#sk-container-id-1 div.sk-container {/* jupyter's `normalize.less` sets `[hidden] { display: none; }` but bootstrap.min.css set `[hidden] { display: none !important; }` so we also need the `!important` here to be able to override the default hidden behavior on the sphinx rendered scikit-learn.org. See: https://github.com/scikit-learn/scikit-learn/issues/21755 */display: inline-block !important;position: relative;}#sk-container-id-1 div.sk-text-repr-fallback {display: none;}</style><div id=\"sk-container-id-1\" class=\"sk-top-container\"><div class=\"sk-text-repr-fallback\"><pre>LogisticRegression()</pre><b>In a Jupyter environment, please rerun this cell to show the HTML representation or trust the notebook. <br />On GitHub, the HTML representation is unable to render, please try loading this page with nbviewer.org.</b></div><div class=\"sk-container\" hidden><div class=\"sk-item\"><div class=\"sk-estimator sk-toggleable\"><input class=\"sk-toggleable__control sk-hidden--visually\" id=\"sk-estimator-id-1\" type=\"checkbox\" checked><label for=\"sk-estimator-id-1\" class=\"sk-toggleable__label sk-toggleable__label-arrow\">LogisticRegression</label><div class=\"sk-toggleable__content\"><pre>LogisticRegression()</pre></div></div></div></div></div>"
      ],
      "text/plain": [
       "LogisticRegression()"
      ]
     },
     "execution_count": 7,
     "metadata": {},
     "output_type": "execute_result"
    }
   ],
   "source": [
    "# Logistic regression\n",
    "# Training a simple regression model\n",
    "# Initialising the model\n",
    "model = LogisticRegression()\n",
    "\n",
    "# Training the model on the training set\n",
    "model.fit(features_train_tfidf, labels_train)  # Train the model on the training set"
   ]
  },
  {
   "cell_type": "code",
   "execution_count": 8,
   "id": "df5986d7",
   "metadata": {},
   "outputs": [],
   "source": [
    "# Making predictions\n",
    "labels_pred = model.predict(features_test_tfidf)"
   ]
  },
  {
   "cell_type": "code",
   "execution_count": 9,
   "id": "f7829df0",
   "metadata": {},
   "outputs": [
    {
     "name": "stdout",
     "output_type": "stream",
     "text": [
      "Accuracy: 0.9897306146748028\n",
      "Classification Report:\n",
      "               precision    recall  f1-score   support\n",
      "\n",
      "         0.0       0.99      0.99      0.99      4453\n",
      "         1.0       0.99      0.98      0.98      2266\n",
      "\n",
      "    accuracy                           0.99      6719\n",
      "   macro avg       0.99      0.99      0.99      6719\n",
      "weighted avg       0.99      0.99      0.99      6719\n",
      "\n"
     ]
    }
   ],
   "source": [
    "# Model evaluation\n",
    "print(\"Accuracy:\", accuracy_score(labels_test, labels_pred))\n",
    "print(\"Classification Report:\\n\", classification_report(labels_test, labels_pred))"
   ]
  },
  {
   "cell_type": "raw",
   "id": "bf6562fa",
   "metadata": {},
   "source": [
    "# Comment on the evaluation\n",
    "Accuracy: The model correctly classified about 99% of all news articles.\n",
    "\n",
    "Class 0.0 (Real News):\n",
    "\n",
    "    Precision: 99% of articles predicted as real were actually real.\n",
    "    Recall: 99% of all real articles were correctly identified.\n",
    "    F1-Score: Balanced performance (99%) between precision and recall.\n",
    "\n",
    "Class 1.0 (Fake News):\n",
    "\n",
    "    Precision: 99% of articles predicted as fake were actually fake.\n",
    "    Recall: 98% of all fake articles were correctly identified.\n",
    "    F1-Score: Balanced performance (98%) between precision and recall.\n",
    "\n",
    "Overall, the model performs very well across both categories with minimal errors."
   ]
  },
  {
   "cell_type": "code",
   "execution_count": 10,
   "id": "12c745a7",
   "metadata": {},
   "outputs": [],
   "source": [
    "# Function to test the model with new data\n",
    "# The function will predict whether a given text is fake or real news.\n",
    "\n",
    "def predict_fake_news(text):\n",
    "    cleaned_text = clean_text(text)\n",
    "    transformed_text = tfidf.transform([cleaned_text])\n",
    "    prediction = model.predict(transformed_text)\n",
    "    return \"Fake News\" if prediction[0] == 1 else \"Real News\""
   ]
  },
  {
   "cell_type": "code",
   "execution_count": 11,
   "id": "a1ba7ecc",
   "metadata": {},
   "outputs": [
    {
     "name": "stdout",
     "output_type": "stream",
     "text": [
      "Real News\n"
     ]
    }
   ],
   "source": [
    "# Testing the function\n",
    "example_text1 = \"Breaking: The government announces a major breakthrough in COVID-19 vaccine research.\"\n",
    "print(predict_fake_news(example_text1))"
   ]
  },
  {
   "cell_type": "raw",
   "id": "47f34350",
   "metadata": {},
   "source": [
    "Let's create a streamlit interface where users can enter the news to check"
   ]
  },
  {
   "cell_type": "code",
   "execution_count": null,
   "id": "4db41608",
   "metadata": {},
   "outputs": [],
   "source": [
    "# Streamlit interface\n",
    "st.title(\"Fake News Detection App\")\n",
    "st.write(\"Enter the news article text below to determine if it is real or fake.\")\n",
    "\n",
    "# Input field\n",
    "news_input = st.text_area(\"Enter News Text\", placeholder=\"Type the news text here...\")\n",
    "\n",
    "if st.button(\"Analyze\"):\n",
    "    if news_input.strip():\n",
    "        # Make prediction\n",
    "        result = predict_fake_news(news_input)\n",
    "        st.subheader(f\"The news article is: **{result}**\")\n",
    "    else:\n",
    "        st.error(\"Please enter a text to analyze.\")"
   ]
  }
 ],
 "metadata": {
  "kernelspec": {
   "display_name": "Python 3 (ipykernel)",
   "language": "python",
   "name": "python3"
  },
  "language_info": {
   "codemirror_mode": {
    "name": "ipython",
    "version": 3
   },
   "file_extension": ".py",
   "mimetype": "text/x-python",
   "name": "python",
   "nbconvert_exporter": "python",
   "pygments_lexer": "ipython3",
   "version": "3.11.7"
  }
 },
 "nbformat": 4,
 "nbformat_minor": 5
}
